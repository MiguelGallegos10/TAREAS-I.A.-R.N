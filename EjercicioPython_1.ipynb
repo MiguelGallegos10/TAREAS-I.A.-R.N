{
  "cells": [
    {
      "cell_type": "markdown",
      "metadata": {
        "id": "view-in-github",
        "colab_type": "text"
      },
      "source": [
        "<a href=\"https://colab.research.google.com/github/MiguelGallegos10/TAREAS-I.A.-R.N/blob/main/EjercicioPython_1.ipynb\" target=\"_parent\"><img src=\"https://colab.research.google.com/assets/colab-badge.svg\" alt=\"Open In Colab\"/></a>"
      ]
    },
    {
      "cell_type": "markdown",
      "id": "c4f13e88",
      "metadata": {
        "id": "c4f13e88"
      },
      "source": [
        "# A2.- Ejercicios en Python"
      ]
    },
    {
      "cell_type": "code",
      "execution_count": null,
      "id": "64a56703",
      "metadata": {
        "id": "64a56703"
      },
      "outputs": [],
      "source": [
        "import numpy as np"
      ]
    },
    {
      "cell_type": "code",
      "execution_count": null,
      "id": "a65b8f1e",
      "metadata": {
        "id": "a65b8f1e",
        "outputId": "6e4e2e78-d77e-4827-f527-ece7550b24c3"
      },
      "outputs": [
        {
          "name": "stdout",
          "output_type": "stream",
          "text": [
            "Collecting yfinance\n",
            "  Using cached yfinance-0.2.12-py2.py3-none-any.whl (59 kB)\n",
            "Requirement already satisfied: lxml>=4.9.1 in c:\\users\\arely\\anaconda3\\lib\\site-packages (from yfinance) (4.9.2)\n",
            "Requirement already satisfied: appdirs>=1.4.4 in c:\\users\\arely\\anaconda3\\lib\\site-packages (from yfinance) (1.4.4)\n",
            "Requirement already satisfied: pytz>=2022.5 in c:\\users\\arely\\anaconda3\\lib\\site-packages (from yfinance) (2022.7.1)\n",
            "Requirement already satisfied: cryptography>=3.3.2 in c:\\users\\arely\\anaconda3\\lib\\site-packages (from yfinance) (3.4.7)\n",
            "Collecting html5lib>=1.1\n",
            "  Using cached html5lib-1.1-py2.py3-none-any.whl (112 kB)\n",
            "Requirement already satisfied: requests>=2.26 in c:\\users\\arely\\anaconda3\\lib\\site-packages (from yfinance) (2.27.1)\n",
            "Collecting beautifulsoup4>=4.11.1\n",
            "  Using cached beautifulsoup4-4.11.2-py3-none-any.whl (129 kB)\n",
            "Requirement already satisfied: numpy>=1.16.5 in c:\\users\\arely\\anaconda3\\lib\\site-packages (from yfinance) (1.21.5)\n",
            "Requirement already satisfied: multitasking>=0.0.7 in c:\\users\\arely\\anaconda3\\lib\\site-packages (from yfinance) (0.0.11)\n",
            "Collecting frozendict>=2.3.4\n",
            "  Using cached frozendict-2.3.5-cp39-cp39-win32.whl\n",
            "Requirement already satisfied: pandas>=1.3.0 in c:\\users\\arely\\anaconda3\\lib\\site-packages (from yfinance) (1.4.2)\n",
            "Requirement already satisfied: soupsieve>1.2 in c:\\users\\arely\\anaconda3\\lib\\site-packages (from beautifulsoup4>=4.11.1->yfinance) (2.3.1)\n",
            "Requirement already satisfied: cffi>=1.12 in c:\\users\\arely\\anaconda3\\lib\\site-packages (from cryptography>=3.3.2->yfinance) (1.15.0)\n",
            "Requirement already satisfied: pycparser in c:\\users\\arely\\anaconda3\\lib\\site-packages (from cffi>=1.12->cryptography>=3.3.2->yfinance) (2.21)\n",
            "Requirement already satisfied: six>=1.9 in c:\\users\\arely\\anaconda3\\lib\\site-packages (from html5lib>=1.1->yfinance) (1.16.0)\n",
            "Requirement already satisfied: webencodings in c:\\users\\arely\\anaconda3\\lib\\site-packages (from html5lib>=1.1->yfinance) (0.5.1)\n",
            "Requirement already satisfied: python-dateutil>=2.8.1 in c:\\users\\arely\\anaconda3\\lib\\site-packages (from pandas>=1.3.0->yfinance) (2.8.2)\n",
            "Requirement already satisfied: urllib3<1.27,>=1.21.1 in c:\\users\\arely\\anaconda3\\lib\\site-packages (from requests>=2.26->yfinance) (1.26.9)\n",
            "Requirement already satisfied: idna<4,>=2.5 in c:\\users\\arely\\anaconda3\\lib\\site-packages (from requests>=2.26->yfinance) (3.3)\n",
            "Requirement already satisfied: certifi>=2017.4.17 in c:\\users\\arely\\anaconda3\\lib\\site-packages (from requests>=2.26->yfinance) (2021.10.8)\n",
            "Requirement already satisfied: charset-normalizer~=2.0.0 in c:\\users\\arely\\anaconda3\\lib\\site-packages (from requests>=2.26->yfinance) (2.0.4)\n",
            "Installing collected packages: html5lib, frozendict, beautifulsoup4, yfinance\n",
            "  Attempting uninstall: beautifulsoup4\n",
            "    Found existing installation: beautifulsoup4 4.10.0\n",
            "    Uninstalling beautifulsoup4-4.10.0:\n",
            "      Successfully uninstalled beautifulsoup4-4.10.0\n",
            "Successfully installed beautifulsoup4-4.11.2 frozendict-2.3.5 html5lib-1.1 yfinance-0.2.12\n",
            "Note: you may need to restart the kernel to use updated packages.\n"
          ]
        },
        {
          "name": "stderr",
          "output_type": "stream",
          "text": [
            "ERROR: pip's dependency resolver does not currently take into account all the packages that are installed. This behaviour is the source of the following dependency conflicts.\n",
            "jupyter-server 1.13.5 requires pywinpty<2; os_name == \"nt\", but you have pywinpty 2.0.2 which is incompatible.\n"
          ]
        }
      ],
      "source": [
        "pip install yfinance\n"
      ]
    },
    {
      "cell_type": "code",
      "execution_count": null,
      "id": "cf7e756b",
      "metadata": {
        "id": "cf7e756b"
      },
      "outputs": [],
      "source": [
        "import yfinance"
      ]
    },
    {
      "cell_type": "code",
      "execution_count": null,
      "id": "ca585e0d",
      "metadata": {
        "id": "ca585e0d"
      },
      "outputs": [],
      "source": [
        "import yfinance as yf"
      ]
    },
    {
      "cell_type": "markdown",
      "id": "6695c202",
      "metadata": {
        "id": "6695c202"
      },
      "source": [
        "## 1. Desarrolla un algoritmo que le pida al usuario por su nombre y que lo salude por su nombre excepto si se llama \"Ana\", \"Juan\" o \"Pedro\"."
      ]
    },
    {
      "cell_type": "code",
      "execution_count": null,
      "id": "3e96c091",
      "metadata": {
        "id": "3e96c091",
        "outputId": "69d30a7a-593b-4671-af78-772361e51327"
      },
      "outputs": [
        {
          "name": "stdout",
          "output_type": "stream",
          "text": [
            "¿Cómo se llama?\n",
            "Miguel\n"
          ]
        }
      ],
      "source": [
        "print(\"¿Cómo se llama?\") \n",
        "nombre = input() "
      ]
    },
    {
      "cell_type": "code",
      "execution_count": null,
      "id": "1d12c68e",
      "metadata": {
        "id": "1d12c68e",
        "outputId": "10580c38-4424-455b-e906-247309e4fa01"
      },
      "outputs": [
        {
          "ename": "SyntaxError",
          "evalue": "invalid syntax (2535516060.py, line 1)",
          "output_type": "error",
          "traceback": [
            "\u001b[1;36m  Input \u001b[1;32mIn [49]\u001b[1;36m\u001b[0m\n\u001b[1;33m    if nombre == \"Ana\" or \"Juan\", or \"Pedro\"\u001b[0m\n\u001b[1;37m                                ^\u001b[0m\n\u001b[1;31mSyntaxError\u001b[0m\u001b[1;31m:\u001b[0m invalid syntax\n"
          ]
        }
      ],
      "source": [
        "if nombre == \"Ana\" or \"Juan\", or \"Pedro\"\n",
        "   print(\"Ingrese otro nombre\")\n",
        "else:   \n",
        "    print(\"Hola \", nombre)\n",
        "    \n",
        "print(\"Mucho gusto en conocerte \", nombre)"
      ]
    },
    {
      "cell_type": "code",
      "source": [],
      "metadata": {
        "id": "98dcpdxcr_sB"
      },
      "id": "98dcpdxcr_sB",
      "execution_count": null,
      "outputs": []
    },
    {
      "cell_type": "markdown",
      "id": "edf99558",
      "metadata": {
        "id": "edf99558"
      },
      "source": [
        "## 2. Desarrolla un algoritmo que le pida al usuario una lista de N elementos y como resultado invierta el sentido de la lista"
      ]
    },
    {
      "cell_type": "markdown",
      "id": "b4b6dede",
      "metadata": {
        "id": "b4b6dede"
      },
      "source": [
        "Ingrese una lista de N elementos"
      ]
    },
    {
      "cell_type": "code",
      "execution_count": null,
      "id": "a558d38c",
      "metadata": {
        "id": "a558d38c"
      },
      "outputs": [],
      "source": [
        "N = [1,3,5,6,7,4]"
      ]
    },
    {
      "cell_type": "code",
      "execution_count": null,
      "id": "6c70dbd2",
      "metadata": {
        "id": "6c70dbd2"
      },
      "outputs": [],
      "source": [
        "h = N[::-1]"
      ]
    },
    {
      "cell_type": "code",
      "execution_count": null,
      "id": "91cf8445",
      "metadata": {
        "id": "91cf8445",
        "outputId": "8382ac8d-2fc5-4d03-d87b-4cde938ffe33"
      },
      "outputs": [
        {
          "name": "stdout",
          "output_type": "stream",
          "text": [
            "La lista invertida es:  [4, 7, 6, 5, 3, 1]\n"
          ]
        }
      ],
      "source": [
        "print(\"La lista invertida es: \", h)"
      ]
    },
    {
      "cell_type": "code",
      "execution_count": null,
      "id": "9479a254",
      "metadata": {
        "id": "9479a254"
      },
      "outputs": [],
      "source": [
        "N.reverse()"
      ]
    },
    {
      "cell_type": "code",
      "execution_count": null,
      "id": "50592ba4",
      "metadata": {
        "id": "50592ba4",
        "outputId": "58177bd4-d425-4461-8ffe-9d910df090c8"
      },
      "outputs": [
        {
          "name": "stdout",
          "output_type": "stream",
          "text": [
            "La lista invertida es:  [4, 7, 6, 5, 3, 1]\n"
          ]
        }
      ],
      "source": [
        "print(\"La lista invertida es: \", N)"
      ]
    }
  ],
  "metadata": {
    "kernelspec": {
      "display_name": "Python 3 (ipykernel)",
      "language": "python",
      "name": "python3"
    },
    "language_info": {
      "codemirror_mode": {
        "name": "ipython",
        "version": 3
      },
      "file_extension": ".py",
      "mimetype": "text/x-python",
      "name": "python",
      "nbconvert_exporter": "python",
      "pygments_lexer": "ipython3",
      "version": "3.9.12"
    },
    "colab": {
      "provenance": [],
      "include_colab_link": true
    }
  },
  "nbformat": 4,
  "nbformat_minor": 5
}